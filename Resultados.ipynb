{
 "cells": [
  {
   "cell_type": "code",
   "execution_count": 1,
   "metadata": {},
   "outputs": [
    {
     "name": "stdout",
     "output_type": "stream",
     "text": [
      "==================================================Venta de garrafones===================================================\n",
      "PRIMER VIAJE: \n",
      "Garrafones vendidos de $8.00: 10\n",
      "Garrafones vendidos de $10.00: 23\n",
      "Garrafones vendidos de $11.00: 43\n",
      "Garrafones vendidos de $12.00: 12\n",
      "Garrafones vendidos de $15.00: 10\n",
      "╒═════════╤════════════╤══════════╤════════════╤══════════╤════════════╤══════════╤════════════╤══════════╤════════════╕\n",
      "│   $8.00 │   Subtotal │   $10.00 │   Subtotal │   $11.00 │   Subtotal │   $12.00 │   Subtotal │   $15.00 │   Subtotal │\n",
      "╞═════════╪════════════╪══════════╪════════════╪══════════╪════════════╪══════════╪════════════╪══════════╪════════════╡\n",
      "│      10 │         80 │       23 │        184 │       43 │        344 │       12 │         96 │       10 │         80 │\n",
      "╘═════════╧════════════╧══════════╧════════════╧══════════╧════════════╧══════════╧════════════╧══════════╧════════════╛\n",
      "Tu venta de este viaje fue de: $ 784\n"
     ]
    }
   ],
   "source": [
    "from tabulate import tabulate\n",
    "\n",
    "print(\"Venta de garrafones\".center(120, \"=\"))\n",
    "print(\"PRIMER VIAJE: \")\n",
    "\n",
    "g1 = int(input(\"Garrafones vendidos de $8.00: \"))\n",
    "g2 = int(input(\"Garrafones vendidos de $10.00: \"))\n",
    "g3 = int(input(\"Garrafones vendidos de $11.00: \"))\n",
    "g4 = int(input(\"Garrafones vendidos de $12.00: \"))\n",
    "g5 = int(input(\"Garrafones vendidos de $15.00: \"))\n",
    "\n",
    "sub1 = int(f\" {g1 * 8}\")\n",
    "sub2 = int(f\" {g2 * 8}\")\n",
    "sub3 = int(f\" {g3 * 8}\")\n",
    "sub4 = int(f\" {g4 * 8}\")\n",
    "sub5 = int(f\" {g5 * 8}\")\n",
    "\n",
    "total =(sub1 + sub2 + sub3 + sub4 + sub5)\n",
    "\n",
    "Venta_garrafones = [['$8.00', 'Subtotal', '$10.00', 'Subtotal', '$11.00', 'Subtotal', '$12.00', 'Subtotal', '$15.00', 'Subtotal'], [g1, sub1, g2, sub2, g3, sub3, g4, sub4, g5, sub5]] \n",
    "                                                                                                                                       \n",
    "print(tabulate(Venta_garrafones, headers='firstrow', tablefmt='fancy_grid'))\n",
    "\n",
    "print(f\"Tu venta de este viaje fue de: $ {total}\")"
   ]
  }
 ],
 "metadata": {
  "kernelspec": {
   "display_name": "Python 3",
   "language": "python",
   "name": "python3"
  },
  "language_info": {
   "codemirror_mode": {
    "name": "ipython",
    "version": 3
   },
   "file_extension": ".py",
   "mimetype": "text/x-python",
   "name": "python",
   "nbconvert_exporter": "python",
   "pygments_lexer": "ipython3",
   "version": "3.6.5"
  }
 },
 "nbformat": 4,
 "nbformat_minor": 2
}
