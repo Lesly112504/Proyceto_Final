{
 "cells": [
  {
   "cell_type": "code",
   "execution_count": 4,
   "metadata": {},
   "outputs": [
    {
     "name": "stdout",
     "output_type": "stream",
     "text": [
      "==================================================Venta de garrafones===================================================\n",
      "Escribe precio de garrafones y 0 para terminar\n",
      "Viajes realizados: 2\n",
      "---#nviaje: 1---\n",
      "Precio: 8\n",
      "Garrafones vendidos de $8: 10\n",
      "Tu subtotal de es de: $80\n"
     ]
    },
    {
     "ename": "TypeError",
     "evalue": "range expected 1 arguments, got 0",
     "output_type": "error",
     "traceback": [
      "\u001b[1;31m---------------------------------------------------------------------------\u001b[0m",
      "\u001b[1;31mTypeError\u001b[0m                                 Traceback (most recent call last)",
      "\u001b[1;32m<ipython-input-4-18a12a392f5f>\u001b[0m in \u001b[0;36m<module>\u001b[1;34m()\u001b[0m\n\u001b[0;32m     20\u001b[0m             \u001b[0mprint\u001b[0m\u001b[1;33m(\u001b[0m\u001b[1;34mf\"Tu subtotal de es de: ${sub_total}\"\u001b[0m\u001b[1;33m)\u001b[0m\u001b[1;33m\u001b[0m\u001b[0m\n\u001b[0;32m     21\u001b[0m \u001b[1;33m\u001b[0m\u001b[0m\n\u001b[1;32m---> 22\u001b[1;33m             \u001b[1;32mfor\u001b[0m \u001b[0msub_total\u001b[0m \u001b[1;32min\u001b[0m \u001b[0mrange\u001b[0m\u001b[1;33m(\u001b[0m\u001b[1;33m)\u001b[0m\u001b[1;33m:\u001b[0m\u001b[1;33m\u001b[0m\u001b[0m\n\u001b[0m\u001b[0;32m     23\u001b[0m                 \u001b[0msuma\u001b[0m \u001b[1;33m+=\u001b[0m \u001b[0msub_total\u001b[0m\u001b[1;33m\u001b[0m\u001b[0m\n\u001b[0;32m     24\u001b[0m             \u001b[0mprint\u001b[0m\u001b[1;33m(\u001b[0m\u001b[0msuma\u001b[0m\u001b[1;33m)\u001b[0m\u001b[1;33m\u001b[0m\u001b[0m\n",
      "\u001b[1;31mTypeError\u001b[0m: range expected 1 arguments, got 0"
     ]
    }
   ],
   "source": [
    "print(\"Venta de garrafones\". center(120, \"=\"))\n",
    "\n",
    "viajes={}\n",
    "print(\"Escribe precio de garrafones y 0 para terminar\")\n",
    "num_viaje = int(input(\"Viajes realizados: \"))\n",
    "\n",
    "for nviaje in range ( num_viaje):\n",
    "    print(f\"---#nviaje: {nviaje +1}---\")\n",
    "    \n",
    "    suma = 0\n",
    "    viajes[nviaje] = {}\n",
    "    while True:\n",
    "        precio = int(input(\"Precio: \"))\n",
    "        \n",
    "        if precio !=0:\n",
    "            num_vendido = int(input(f\"Garrafones vendidos de ${precio}: \"))\n",
    "            viajes[nviaje][precio] = num_vendido\n",
    "            \n",
    "            sub_total = num_vendido * precio\n",
    "            print(f\"Tu subtotal de es de: ${sub_total}\")\n",
    "            \n",
    "            for sub_total in range():\n",
    "                suma += sub_total\n",
    "            print(suma) \n",
    "                        \n",
    "        else:\n",
    "            break\n",
    "               \n",
    "    \n"
   ]
  },
  {
   "cell_type": "code",
   "execution_count": null,
   "metadata": {},
   "outputs": [],
   "source": []
  }
 ],
 "metadata": {
  "kernelspec": {
   "display_name": "Python 3",
   "language": "python",
   "name": "python3"
  },
  "language_info": {
   "codemirror_mode": {
    "name": "ipython",
    "version": 3
   },
   "file_extension": ".py",
   "mimetype": "text/x-python",
   "name": "python",
   "nbconvert_exporter": "python",
   "pygments_lexer": "ipython3",
   "version": "3.6.5"
  }
 },
 "nbformat": 4,
 "nbformat_minor": 2
}
